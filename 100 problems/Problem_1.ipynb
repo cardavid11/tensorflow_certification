{
  "nbformat": 4,
  "nbformat_minor": 0,
  "metadata": {
    "colab": {
      "provenance": [],
      "authorship_tag": "ABX9TyMVyfJyVmCiqt5RxFeB4jlg",
      "include_colab_link": true
    },
    "kernelspec": {
      "name": "python3",
      "display_name": "Python 3"
    },
    "language_info": {
      "name": "python"
    }
  },
  "cells": [
    {
      "cell_type": "markdown",
      "metadata": {
        "id": "view-in-github",
        "colab_type": "text"
      },
      "source": [
        "<a href=\"https://colab.research.google.com/github/cardavid11/tensorflow_certification/blob/main/100%20problems/Problem_1.ipynb\" target=\"_parent\"><img src=\"https://colab.research.google.com/assets/colab-badge.svg\" alt=\"Open In Colab\"/></a>"
      ]
    },
    {
      "cell_type": "markdown",
      "source": [
        "Great! Starting with Problem 1, we'll focus on basic TensorFlow operations. Here's your first challenge:\n",
        "\n",
        "### Problem 1: Basic TensorFlow Operations\n",
        "\n",
        "#### Task Description:\n",
        "Write a Python program using TensorFlow to perform the following tensor operations:\n",
        "\n",
        "1. **Tensor Creation**: Create two tensors `A` and `B` of shape (3,3) with random values.\n",
        "2. **Addition**: Add tensors `A` and `B`.\n",
        "3. **Multiplication**: Multiply tensors `A` and `B`.\n",
        "4. **Matrix Multiplication**: Perform matrix multiplication between `A` and `B`.\n",
        "5. **Reshaping**: Reshape tensor `A` to shape (9,1).\n",
        "6. **Reduce Mean**: Compute the mean of tensor `B`.\n",
        "7. **Gradient Tape**: Use TensorFlow's GradientTape to compute the derivative of the sum of elements in `A` with respect to each element in `A`.\n",
        "\n",
        "#### Skills Tested:\n",
        "- Understanding of TensorFlow APIs for tensor creation and manipulation.\n",
        "- Familiarity with basic mathematical operations in TensorFlow.\n",
        "- Comprehension of automatic differentiation using GradientTape.\n",
        "\n",
        "Once you have completed the task, you can share your code here for review or ask for hints if you encounter difficulties. Let's get started!"
      ],
      "metadata": {
        "id": "1pVBMx7jE5j6"
      }
    },
    {
      "cell_type": "code",
      "source": [
        "import tensorflow as tf"
      ],
      "metadata": {
        "id": "Lq9SOrwzFNOB"
      },
      "execution_count": 2,
      "outputs": []
    },
    {
      "cell_type": "code",
      "source": [
        "# 1. Tensor Creation: Create two tensors A and B of shape (3,3) with random values.\n",
        "A = tf.constant(tf.random.normal(shape=(3,3)))\n",
        "B = tf.constant(tf.random.normal(shape=(3,3)))"
      ],
      "metadata": {
        "id": "0n1bs7DiFGw0"
      },
      "execution_count": 3,
      "outputs": []
    },
    {
      "cell_type": "code",
      "source": [
        "# 2. Addition: Add tensors A and B.\n",
        "tf.add(A,B)\n",
        "\n",
        "# It is possible to also implement\n",
        "# A + B"
      ],
      "metadata": {
        "colab": {
          "base_uri": "https://localhost:8080/",
          "height": 0
        },
        "id": "1QCa0g4vFrKZ",
        "outputId": "51264b47-c597-4056-beb4-ed93b0c78fe1"
      },
      "execution_count": 5,
      "outputs": [
        {
          "output_type": "execute_result",
          "data": {
            "text/plain": [
              "<tf.Tensor: shape=(3, 3), dtype=float32, numpy=\n",
              "array([[ 1.3466971 , -0.52222455,  1.9870858 ],\n",
              "       [ 0.32553068,  0.48125368, -1.5262746 ],\n",
              "       [ 0.61124194, -0.27508557,  0.1826456 ]], dtype=float32)>"
            ]
          },
          "metadata": {},
          "execution_count": 5
        }
      ]
    },
    {
      "cell_type": "code",
      "source": [
        "# 3. Multiplication: Multiply tensors A and B.\n",
        "tf.multiply(A,B)\n",
        "\n",
        "# It is possible to also implement\n",
        "# A * B"
      ],
      "metadata": {
        "colab": {
          "base_uri": "https://localhost:8080/",
          "height": 0
        },
        "id": "v098Bl-zG76f",
        "outputId": "01ab583c-78fc-4399-d66f-a722f54af0fe"
      },
      "execution_count": 6,
      "outputs": [
        {
          "output_type": "execute_result",
          "data": {
            "text/plain": [
              "<tf.Tensor: shape=(3, 3), dtype=float32, numpy=\n",
              "array([[ 0.40711665, -0.8789911 ,  0.97234285],\n",
              "       [-0.01430334,  0.01875202,  0.4311034 ],\n",
              "       [ 0.08576703, -0.02959998, -0.00272162]], dtype=float32)>"
            ]
          },
          "metadata": {},
          "execution_count": 6
        }
      ]
    },
    {
      "cell_type": "code",
      "source": [
        "# 4. Matrix Multiplication: Perform matrix multiplication between A and B.\n",
        "tf.matmul(A,B)\n",
        "\n",
        "# It is possible to also implement\n",
        "# A @ B"
      ],
      "metadata": {
        "id": "D9p9SsOxHMMH"
      },
      "execution_count": null,
      "outputs": []
    },
    {
      "cell_type": "code",
      "source": [
        "#5 Reshaping: Reshape tensor A to shape (9,1).\n",
        "tf.reshape(A, (9,1))"
      ],
      "metadata": {
        "colab": {
          "base_uri": "https://localhost:8080/",
          "height": 0
        },
        "id": "nUSgx7RFHUBW",
        "outputId": "408d307a-5c06-4c0a-e7ed-6dc2a5fed8de"
      },
      "execution_count": 8,
      "outputs": [
        {
          "output_type": "execute_result",
          "data": {
            "text/plain": [
              "(<tf.Tensor: shape=(3, 3), dtype=float32, numpy=\n",
              " array([[ 0.45821702,  0.7121147 ,  1.1151354 ],\n",
              "        [-0.0392146 ,  0.43848854, -1.1520783 ],\n",
              "        [ 0.39301172,  0.08272523, -0.01385075]], dtype=float32)>,\n",
              " <tf.Tensor: shape=(9, 1), dtype=float32, numpy=\n",
              " array([[ 0.45821702],\n",
              "        [ 0.7121147 ],\n",
              "        [ 1.1151354 ],\n",
              "        [-0.0392146 ],\n",
              "        [ 0.43848854],\n",
              "        [-1.1520783 ],\n",
              "        [ 0.39301172],\n",
              "        [ 0.08272523],\n",
              "        [-0.01385075]], dtype=float32)>)"
            ]
          },
          "metadata": {},
          "execution_count": 8
        }
      ]
    },
    {
      "cell_type": "code",
      "source": [
        "# 6 Reduce Mean: Compute the mean of tensor B.\n",
        "tf.reduce_mean(B)"
      ],
      "metadata": {
        "colab": {
          "base_uri": "https://localhost:8080/",
          "height": 0
        },
        "id": "e9VNubebHkQG",
        "outputId": "c36a3460-72e3-44e0-d8c5-7317576e3c99"
      },
      "execution_count": 9,
      "outputs": [
        {
          "output_type": "execute_result",
          "data": {
            "text/plain": [
              "<tf.Tensor: shape=(), dtype=float32, numpy=0.06848012>"
            ]
          },
          "metadata": {},
          "execution_count": 9
        }
      ]
    },
    {
      "cell_type": "code",
      "source": [
        "# 7 Gradient Tape: Use TensorFlow's GradientTape to compute the derivative of the sum of elements in A with respect to each element in A.\n",
        "\n",
        "### Understanding the Task: Gradient Tape\n",
        "\n",
        "#### Task Breakdown\n",
        "# - **What is Gradient Tape?**: TensorFlow's `GradientTape` is a tool for automatic differentiation. It records operations performed in forward pass and then uses that record to compute gradients in the backward pass.\n",
        "# - **Your Task**: Use `GradientTape` to compute the derivative of the sum of elements in tensor `A` with respect to each element in `A`.\n",
        "\n",
        "#### Detailed Explanation\n",
        "# 1. **Record Operations**:\n",
        "#    - First, you need to create a context using `tf.GradientTape()`. Inside this context, you will define the operation for which you want to compute the derivative.\n",
        "#    - In this case, the operation is the sum of all elements in tensor `A`.\n",
        "\n",
        "# 2. **Compute the Derivative**:\n",
        "#    - The derivative you need to compute is how much the sum of all elements in `A` changes when you change each individual element in `A`.\n",
        "#    - In mathematical terms, if `S` is the sum of all elements in `A`, you are computing ∂S/∂A[i][j] for each element A[i][j].\n",
        "\n",
        "# 3. **Why Is This Useful?**:\n",
        "#    - Understanding how to compute such derivatives is crucial for gradient-based optimization algorithms, which are the backbone of training neural networks.\n",
        "\n",
        "#### Code\n",
        "\n",
        "with tf.GradientTape() as tape:\n",
        "    # Ensure that A is being watched by the tape\n",
        "    tape.watch(A)\n",
        "\n",
        "    # Define the operation: Sum of elements in A\n",
        "    S = tf.reduce_sum(A)\n",
        "\n",
        "# Compute the gradient (derivative) of S with respect to A\n",
        "gradients = tape.gradient(S, A)\n",
        "\n",
        "# gradients now contains the derivative of the sum S with respect to each element in A\n",
        "\n",
        "# This code will give you the gradient of the sum of all elements in tensor `A` with respect to each element in `A`. Each element in the `gradients` tensor corresponds to the partial derivative of the sum with respect to the corresponding element in `A`."
      ],
      "metadata": {
        "id": "5Qn4yMV6Hz0N"
      },
      "execution_count": 10,
      "outputs": []
    }
  ]
}