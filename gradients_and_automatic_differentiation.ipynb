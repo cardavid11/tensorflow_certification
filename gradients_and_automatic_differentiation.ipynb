{
  "nbformat": 4,
  "nbformat_minor": 0,
  "metadata": {
    "colab": {
      "provenance": [],
      "authorship_tag": "ABX9TyPo+82skWTBnmZuJa2YX9e7",
      "include_colab_link": true
    },
    "kernelspec": {
      "name": "python3",
      "display_name": "Python 3"
    },
    "language_info": {
      "name": "python"
    }
  },
  "cells": [
    {
      "cell_type": "markdown",
      "metadata": {
        "id": "view-in-github",
        "colab_type": "text"
      },
      "source": [
        "<a href=\"https://colab.research.google.com/github/cardavid11/tensorflow_certification/blob/main/gradients_and_automatic_differentiation.ipynb\" target=\"_parent\"><img src=\"https://colab.research.google.com/assets/colab-badge.svg\" alt=\"Open In Colab\"/></a>"
      ]
    },
    {
      "cell_type": "code",
      "execution_count": 2,
      "metadata": {
        "id": "87f-NW-VXNpQ",
        "colab": {
          "base_uri": "https://localhost:8080/"
        },
        "outputId": "737dc499-e78b-4aa9-81c2-b65fa9bb90c7"
      },
      "outputs": [
        {
          "output_type": "execute_result",
          "data": {
            "text/plain": [
              "6.0"
            ]
          },
          "metadata": {},
          "execution_count": 2
        }
      ],
      "source": [
        "# Introduction to gradients and automatic differentiation\n",
        "import tensorflow as tf\n",
        "x = tf.Variable(3.0)\n",
        "with tf.GradientTape() as tape:\n",
        "  y = x**2\n",
        "dy_dx = tape.gradient(y, x)\n",
        "dy_dx.numpy()"
      ]
    },
    {
      "cell_type": "code",
      "source": [
        "w = tf.Variable(tf.random.normal((3, 2)), name='w')\n",
        "b = tf.Variable(tf.zeros(2, dtype=tf.float32), name='b')\n",
        "x = [[1., 2., 3.]]\n",
        "print(w)\n",
        "print(b)\n",
        "print(x)\n",
        "print('-----')\n",
        "with tf.GradientTape(persistent=True) as tape:\n",
        "  y = x @ w + b\n",
        "  loss = tf.reduce_mean(y**2)\n",
        "  print(loss)\n",
        "  print('-----')\n",
        "  print(tape.gradient(loss, w))\n",
        "  print(tape.gradient(loss, b))\n",
        "  print('-----')\n",
        "[dl_dw, dl_db] = tape.gradient(loss, [w, b])\n",
        "print(w.shape)\n",
        "print(dl_dw.shape)\n",
        "print(dl_db.shape)"
      ],
      "metadata": {
        "colab": {
          "base_uri": "https://localhost:8080/"
        },
        "id": "jvlNcIwrmNV0",
        "outputId": "2c51fc81-7aba-45ef-d970-195d6bd69ad2"
      },
      "execution_count": 24,
      "outputs": [
        {
          "output_type": "stream",
          "name": "stderr",
          "text": [
            "WARNING:tensorflow:Calling GradientTape.gradient on a persistent tape inside its context is significantly less efficient than calling it outside the context (it causes the gradient ops to be recorded on the tape, leading to increased CPU and memory usage). Only call GradientTape.gradient inside the context if you actually want to trace the gradient in order to compute higher order derivatives.\n",
            "WARNING:tensorflow:Calling GradientTape.gradient on a persistent tape inside its context is significantly less efficient than calling it outside the context (it causes the gradient ops to be recorded on the tape, leading to increased CPU and memory usage). Only call GradientTape.gradient inside the context if you actually want to trace the gradient in order to compute higher order derivatives.\n"
          ]
        },
        {
          "output_type": "stream",
          "name": "stdout",
          "text": [
            "<tf.Variable 'w:0' shape=(3, 2) dtype=float32, numpy=\n",
            "array([[-0.03332531, -1.4940906 ],\n",
            "       [-0.4354946 ,  1.384409  ],\n",
            "       [-0.07757045,  0.37305143]], dtype=float32)>\n",
            "<tf.Variable 'b:0' shape=(2,) dtype=float32, numpy=array([0., 0.], dtype=float32)>\n",
            "[[1.0, 2.0, 3.0]]\n",
            "-----\n",
            "tf.Tensor(3.5117488, shape=(), dtype=float32)\n",
            "-----\n",
            "tf.Tensor(\n",
            "[[-1.1370258  2.3938818]\n",
            " [-2.2740517  4.7877636]\n",
            " [-3.4110775  7.1816454]], shape=(3, 2), dtype=float32)\n",
            "tf.Tensor([-1.1370258  2.3938818], shape=(2,), dtype=float32)\n",
            "-----\n",
            "(3, 2)\n",
            "(3, 2)\n",
            "(2,)\n"
          ]
        }
      ]
    },
    {
      "cell_type": "code",
      "source": [
        "my_vars = {\n",
        "    'w': w,\n",
        "    'b': b\n",
        "}\n",
        "\n",
        "grad = tape.gradient(loss, my_vars)\n",
        "grad['b']"
      ],
      "metadata": {
        "colab": {
          "base_uri": "https://localhost:8080/"
        },
        "id": "BTYPLIcbnomB",
        "outputId": "8a6e7b22-ed65-45e1-a03f-72537df913f2"
      },
      "execution_count": 25,
      "outputs": [
        {
          "output_type": "execute_result",
          "data": {
            "text/plain": [
              "<tf.Tensor: shape=(2,), dtype=float32, numpy=array([-1.1370258,  2.3938818], dtype=float32)>"
            ]
          },
          "metadata": {},
          "execution_count": 25
        }
      ]
    },
    {
      "cell_type": "code",
      "source": [
        "# reduce_mean\n",
        "x = tf.constant([[1., 1.], [2., 2.]])\n",
        "tf.reduce_mean(x)"
      ],
      "metadata": {
        "colab": {
          "base_uri": "https://localhost:8080/"
        },
        "id": "FTNnwZuCqeYp",
        "outputId": "eaccae2b-070c-479e-c359-74dd1e8e2621"
      },
      "execution_count": 17,
      "outputs": [
        {
          "output_type": "execute_result",
          "data": {
            "text/plain": [
              "<tf.Tensor: shape=(), dtype=float32, numpy=1.5>"
            ]
          },
          "metadata": {},
          "execution_count": 17
        }
      ]
    },
    {
      "cell_type": "code",
      "source": [
        "tf.reduce_mean(x, 0)"
      ],
      "metadata": {
        "colab": {
          "base_uri": "https://localhost:8080/"
        },
        "id": "KePiZ_5Iq4Y0",
        "outputId": "8102cdcd-571c-4c4c-f4c8-fb3f966d7acd"
      },
      "execution_count": 18,
      "outputs": [
        {
          "output_type": "execute_result",
          "data": {
            "text/plain": [
              "<tf.Tensor: shape=(2,), dtype=float32, numpy=array([1.5, 1.5], dtype=float32)>"
            ]
          },
          "metadata": {},
          "execution_count": 18
        }
      ]
    },
    {
      "cell_type": "code",
      "source": [
        "tf.reduce_mean(x, 1)"
      ],
      "metadata": {
        "colab": {
          "base_uri": "https://localhost:8080/"
        },
        "id": "i-d6zZSGq5qg",
        "outputId": "7b605c77-d45b-4a48-e24a-82b8bd8022ef"
      },
      "execution_count": 19,
      "outputs": [
        {
          "output_type": "execute_result",
          "data": {
            "text/plain": [
              "<tf.Tensor: shape=(2,), dtype=float32, numpy=array([1., 2.], dtype=float32)>"
            ]
          },
          "metadata": {},
          "execution_count": 19
        }
      ]
    },
    {
      "cell_type": "markdown",
      "source": [
        "![image.png](data:image/png;base64,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)"
      ],
      "metadata": {
        "id": "0G88TkSbrWXJ"
      }
    },
    {
      "cell_type": "code",
      "source": [
        "# Gradients with respect to a model\n",
        "# Creating a Dense Layer:\n",
        "# This line creates a Dense layer with 2 neurons (units) and ReLU activation function.\n",
        "# A Dense layer is a fully connected neural network layer, meaning each input is connected to each neuron in this layer.\n",
        "layer = tf.keras.layers.Dense(2, activation='relu')\n",
        "print(layer)\n",
        "# Here, x is defined as a constant tensor with shape (1, 3). It represents one data sample with three features.\n",
        "x = tf.constant([[1., 2., 3.]])\n",
        "\n",
        "_ = layer(x)  # This step is necessary to initialize the layer's weights\n",
        "\n",
        "# Access the weights and biases\n",
        "weights = layer.kernel.numpy()\n",
        "biases = layer.bias.numpy()\n",
        "\n",
        "print(\"Weights (W):\", weights)\n",
        "print(\"Biases (b):\", biases)\n",
        "\n",
        "with tf.GradientTape() as tape:\n",
        "  # Forward pass\n",
        "  # This line performs a forward pass of the input x through the Dense layer.\n",
        "  # The Dense layer will perform the following operation: y = ReLU(x * W + b), where W is the weights matrix, b is the bias vector, and ReLU is the activation function.\n",
        "  # Since x is (1,  3) and the layer has 2 neurons, W should be (3, 2), and b should be (2,). The output y will have the shape (1, 2).\n",
        "  y = layer(x)\n",
        "  # This computes the mean squared value of y, essentially squaring each element of y and then taking the average. It's a simple way to create a scalar loss value.\n",
        "  loss = tf.reduce_mean(y**2)\n",
        "\n",
        "# Calculate gradients with respect to every trainable variable\n",
        "# This calculates the gradients of loss with respect to the layer's trainable variables (weights W and biases b).\n",
        "grad = tape.gradient(loss, layer.trainable_variables)"
      ],
      "metadata": {
        "colab": {
          "base_uri": "https://localhost:8080/"
        },
        "id": "gpEqJBpnyGw3",
        "outputId": "03992d75-be5d-4d55-9197-90984d4c376f"
      },
      "execution_count": 44,
      "outputs": [
        {
          "output_type": "stream",
          "name": "stdout",
          "text": [
            "<keras.src.layers.core.dense.Dense object at 0x785575e0c460>\n",
            "Weights (W): [[ 0.4759171  -0.70771676]\n",
            " [ 0.45931995 -0.7635919 ]\n",
            " [-0.73615813  0.13242328]]\n",
            "Biases (b): [0. 0.]\n"
          ]
        }
      ]
    },
    {
      "cell_type": "code",
      "source": [
        "print(\"grad\")\n",
        "grad"
      ],
      "metadata": {
        "colab": {
          "base_uri": "https://localhost:8080/"
        },
        "id": "1MX59qsm1-G9",
        "outputId": "a714bc64-e360-413f-e9da-dfa51ac75db5"
      },
      "execution_count": 45,
      "outputs": [
        {
          "output_type": "stream",
          "name": "stdout",
          "text": [
            "grad\n"
          ]
        },
        {
          "output_type": "execute_result",
          "data": {
            "text/plain": [
              "[<tf.Tensor: shape=(3, 2), dtype=float32, numpy=\n",
              " array([[0., 0.],\n",
              "        [0., 0.],\n",
              "        [0., 0.]], dtype=float32)>,\n",
              " <tf.Tensor: shape=(2,), dtype=float32, numpy=array([0., 0.], dtype=float32)>]"
            ]
          },
          "metadata": {},
          "execution_count": 45
        }
      ]
    },
    {
      "cell_type": "code",
      "source": [
        "print(\"layer.trainable_variables\")\n",
        "layer.trainable_variables"
      ],
      "metadata": {
        "colab": {
          "base_uri": "https://localhost:8080/"
        },
        "id": "bjYi7x0N2iZu",
        "outputId": "2801855e-c3f9-4176-efb0-468f41099d83"
      },
      "execution_count": 46,
      "outputs": [
        {
          "output_type": "stream",
          "name": "stdout",
          "text": [
            "layer.trainable_variables\n"
          ]
        },
        {
          "output_type": "execute_result",
          "data": {
            "text/plain": [
              "[<tf.Variable 'dense_9/kernel:0' shape=(3, 2) dtype=float32, numpy=\n",
              " array([[ 0.4759171 , -0.70771676],\n",
              "        [ 0.45931995, -0.7635919 ],\n",
              "        [-0.73615813,  0.13242328]], dtype=float32)>,\n",
              " <tf.Variable 'dense_9/bias:0' shape=(2,) dtype=float32, numpy=array([0., 0.], dtype=float32)>]"
            ]
          },
          "metadata": {},
          "execution_count": 46
        }
      ]
    },
    {
      "cell_type": "code",
      "source": [
        "# The for loop iterates over the layer's trainable variables and their corresponding gradients.\n",
        "for var, g in zip(layer.trainable_variables, grad):\n",
        "  # var.name gives the name of the variable (either weights or biases).\n",
        "  # g.shape provides the shape of the gradient tensor for each variable. The gradient shape matches the shape of the corresponding variable:\n",
        "  # The gradient of the loss with respect to W (dl/dW) will have the same shape as W, which is (3, 2).\n",
        "  # The gradient with respect to b (dl/db) will have the same shape as b, which is (2,)\n",
        "  print(f'{var.name}, shape: {g.shape}')\n",
        "\n",
        "# Summary\n",
        "# This code snippet demonstrates a basic forward pass through a single dense layer\n",
        "# of a neural network, followed by the computation of gradients (backpropagation)\n",
        "# using TensorFlow's automatic differentiation mechanism (tf.GradientTape).\n",
        "# It highlights how to calculate and access the gradients of a loss function with\n",
        "# respect to the model's parameters, which is a fundamental part of\n",
        "# training neural networks."
      ],
      "metadata": {
        "colab": {
          "base_uri": "https://localhost:8080/"
        },
        "id": "sN7jbHgU164u",
        "outputId": "e04b5308-a9c2-4b63-a4e9-13e7e0f27421"
      },
      "execution_count": 47,
      "outputs": [
        {
          "output_type": "stream",
          "name": "stdout",
          "text": [
            "dense_9/kernel:0, shape: (3, 2)\n",
            "dense_9/bias:0, shape: (2,)\n"
          ]
        }
      ]
    },
    {
      "cell_type": "markdown",
      "source": [
        "Controlling what the tape watches\n",
        "The default behavior is to record all operations after accessing a trainable tf.Variable. The reasons for this are:\n",
        "\n",
        "The tape needs to know which operations to record in the forward pass to calculate the gradients in the backwards pass.\n",
        "The tape holds references to intermediate outputs, so you don't want to record unnecessary operations.\n",
        "The most common use case involves calculating the gradient of a loss with respect to all a model's trainable variables.\n",
        "For example, the following fails to calculate a gradient because the tf.Tensor is not \"watched\" by default, and the tf.Variable is not trainable:"
      ],
      "metadata": {
        "id": "0t51ecitEYxW"
      }
    },
    {
      "cell_type": "code",
      "source": [
        "# Controlling what the tape watches\n",
        "# A trainable variable\n",
        "x0 = tf.Variable(3.0, name='x0')\n",
        "# Not trainable\n",
        "x1 = tf.Variable(3.0, name='x1', trainable=False)\n",
        "# Not a Variable: A variable + tensor returns a tensor.\n",
        "x2 = tf.Variable(2.0, name='x2') + 1.0\n",
        "# Not a variable\n",
        "x3 = tf.constant(3.0, name='x3')\n",
        "\n",
        "with tf.GradientTape() as tape:\n",
        "  y = (x0**2) + (x1**2) + (x2**2)\n",
        "\n",
        "grad = tape.gradient(y, [x0, x1, x2, x3])\n",
        "\n",
        "for g in grad:\n",
        "  print(g)"
      ],
      "metadata": {
        "colab": {
          "base_uri": "https://localhost:8080/"
        },
        "id": "ly1qD9RX82KD",
        "outputId": "7caa783c-6b38-4954-b843-d2f2970e2492"
      },
      "execution_count": 48,
      "outputs": [
        {
          "output_type": "stream",
          "name": "stdout",
          "text": [
            "tf.Tensor(6.0, shape=(), dtype=float32)\n",
            "None\n",
            "None\n",
            "None\n"
          ]
        }
      ]
    },
    {
      "cell_type": "code",
      "source": [
        "# You can list the variables being watched by the tape using the GradientTape.watched_variables method:\n",
        "[var.name for var in tape.watched_variables()]"
      ],
      "metadata": {
        "colab": {
          "base_uri": "https://localhost:8080/"
        },
        "id": "rUHEvw64Eezv",
        "outputId": "70f7cfd0-e1ed-474d-b8a2-e4eca58a9cf6"
      },
      "execution_count": 49,
      "outputs": [
        {
          "output_type": "execute_result",
          "data": {
            "text/plain": [
              "['x0:0']"
            ]
          },
          "metadata": {},
          "execution_count": 49
        }
      ]
    },
    {
      "cell_type": "code",
      "source": [
        "# tf.GradientTape provides hooks that give the user control over what is or is not watched.\n",
        "\n",
        "# To record gradients with respect to a tf.Tensor, you need to call GradientTape.watch(x):\n",
        "\n",
        "x = tf.constant(3.0)\n",
        "with tf.GradientTape() as tape:\n",
        "  tape.watch(x)\n",
        "  y = x**2\n",
        "\n",
        "# dy = 2x * dx\n",
        "dy_dx = tape.gradient(y, x)\n",
        "print(dy_dx.numpy())"
      ],
      "metadata": {
        "colab": {
          "base_uri": "https://localhost:8080/"
        },
        "id": "Ou2nYp59EnEp",
        "outputId": "9a0e776a-d6ce-43d9-8984-06c12abb706a"
      },
      "execution_count": 51,
      "outputs": [
        {
          "output_type": "stream",
          "name": "stdout",
          "text": [
            "6.0\n"
          ]
        }
      ]
    },
    {
      "cell_type": "code",
      "source": [
        "x = tf.Variable(2.0)\n",
        "with tf.GradientTape() as tape:\n",
        "  y0 = x**2\n",
        "  y1 = 1 / x\n",
        "\n",
        "print(tape.gradient({'y0': y0, 'y1': y1}, x).numpy())"
      ],
      "metadata": {
        "colab": {
          "base_uri": "https://localhost:8080/"
        },
        "id": "pnIV5PsvHvlp",
        "outputId": "613653cb-5443-4b6b-8eb0-573b2bf96572"
      },
      "execution_count": 56,
      "outputs": [
        {
          "output_type": "stream",
          "name": "stdout",
          "text": [
            "3.75\n"
          ]
        }
      ]
    }
  ]
}