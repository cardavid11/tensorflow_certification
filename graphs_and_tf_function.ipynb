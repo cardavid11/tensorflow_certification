{
  "nbformat": 4,
  "nbformat_minor": 0,
  "metadata": {
    "colab": {
      "provenance": [],
      "authorship_tag": "ABX9TyO3S1qiPYR0GWXbPLAadpRW",
      "include_colab_link": true
    },
    "kernelspec": {
      "name": "python3",
      "display_name": "Python 3"
    },
    "language_info": {
      "name": "python"
    }
  },
  "cells": [
    {
      "cell_type": "markdown",
      "metadata": {
        "id": "view-in-github",
        "colab_type": "text"
      },
      "source": [
        "<a href=\"https://colab.research.google.com/github/cardavid11/tensorflow_certification/blob/main/graphs_and_tf_function.ipynb\" target=\"_parent\"><img src=\"https://colab.research.google.com/assets/colab-badge.svg\" alt=\"Open In Colab\"/></a>"
      ]
    },
    {
      "cell_type": "markdown",
      "source": [
        "#Introduction to graphs and tf.function\n",
        "\n",
        "For an interview, it's important to have a clear and concise understanding of TensorFlow graphs and `tf.function`. Here's a summarized explanation:\n",
        "\n",
        "1. **TensorFlow Graphs**: In TensorFlow, a graph represents a series of computations. Each computation (like mathematical operations) is a node, and the data (tensors) flowing between them are edges. Graphs enable efficient execution by optimizing calculations, facilitating parallel processing, and allowing operations to be performed independently of the Python runtime.\n",
        "\n",
        "2. **`tf.function`**: This is a TensorFlow decorator that converts a Python function into a TensorFlow graph. It allows for normal Python code, including control flow statements, to be automatically transformed into TensorFlow's graph operations. This conversion optimizes the function for performance and is crucial for deploying TensorFlow models in non-Python environments.\n",
        "\n",
        "3. **AutoGraph**: Part of `tf.function`, AutoGraph converts Python-specific constructs (like loops and conditional statements) into TensorFlow graph-compatible code. This ensures that Python functions work seamlessly in a graph environment.\n",
        "\n",
        "Understanding these concepts is key for TensorFlow models, as they impact performance optimization and model deployment.\n",
        "\n"
      ],
      "metadata": {
        "id": "jZxNyWJmP0-A"
      }
    },
    {
      "cell_type": "code",
      "execution_count": null,
      "metadata": {
        "id": "iLPq9_kpPtkT"
      },
      "outputs": [],
      "source": [
        "# What are graphs? -> Graphs are data structures that contain a set of tf.Operation\n",
        "# objects, which represent units of computation; and tf.Tensor objects, which represent\n",
        "# the units of data that flow between operations. They are defined in a tf.Graph context.\n",
        "# Since these graphs are data structures, they can be saved, run, and restored all\n",
        "# without the original Python code."
      ]
    },
    {
      "cell_type": "code",
      "source": [
        "import tensorflow as tf\n",
        "import timeit\n",
        "from datetime import datetime"
      ],
      "metadata": {
        "id": "SSXf2kpvA54J"
      },
      "execution_count": 1,
      "outputs": []
    },
    {
      "cell_type": "code",
      "source": [
        "# A Function is a Python callable that builds TensorFlow graphs from the Python\n",
        "# function. You use a Function in the same way as its Python equivalent.\n",
        "# Define a Python function.\n",
        "def a_regular_function(x, y, b):\n",
        "  x = tf.matmul(x, y)\n",
        "  x = x + b\n",
        "  return x\n",
        "\n",
        "# `a_function_that_uses_a_graph` is a TensorFlow `Function`.\n",
        "a_function_that_uses_a_graph = tf.function(a_regular_function)\n",
        "\n",
        "# Make some tensors.\n",
        "x1 = tf.constant([[1.0, 2.0]])\n",
        "y1 = tf.constant([[2.0], [3.0]])\n",
        "b1 = tf.constant(4.0)\n",
        "\n",
        "orig_value = a_regular_function(x1, y1, b1).numpy()\n",
        "\n",
        "# Call a `Function` like a Python function.\n",
        "tf_function_value = a_function_that_uses_a_graph(x1, y1, b1).numpy()\n",
        "assert(orig_value == tf_function_value)"
      ],
      "metadata": {
        "id": "fBI4-_oWA6n6"
      },
      "execution_count": 7,
      "outputs": []
    },
    {
      "cell_type": "code",
      "source": [
        "# tf.function applies to a function and all other functions it calls:\n",
        "def inner_function(x, y, b):\n",
        "  x = tf.matmul(x, y)\n",
        "  x = x + b\n",
        "  return x\n",
        "\n",
        "# Use the decorator to make `outer_function` a `Function`.\n",
        "@tf.function\n",
        "def outer_function(x):\n",
        "  y = tf.constant([[2.0], [3.0]])\n",
        "  b = tf.constant(4.0)\n",
        "\n",
        "  return inner_function(x, y, b)\n",
        "\n",
        "# Note that the callable will create a graph that\n",
        "# includes `inner_function` as well as `outer_function`.\n",
        "outer_function(tf.constant([[1.0, 2.0]])).numpy()"
      ],
      "metadata": {
        "colab": {
          "base_uri": "https://localhost:8080/"
        },
        "id": "DlT2rut7BPaf",
        "outputId": "9052c779-41af-4367-f7dd-30ff5aaf8574"
      },
      "execution_count": 8,
      "outputs": [
        {
          "output_type": "execute_result",
          "data": {
            "text/plain": [
              "array([[12.]], dtype=float32)"
            ]
          },
          "metadata": {},
          "execution_count": 8
        }
      ]
    },
    {
      "cell_type": "code",
      "source": [
        "# Converting Python functions to graphs\n",
        "\n",
        "# Any function you write with TensorFlow will contain a mixture of built-in TF operations\n",
        "# and Python logic, such as if-then clauses, loops, break, return, continue, and more.\n",
        "# While TensorFlow operations are easily captured by a tf.Graph, Python-specific logic\n",
        "# needs to undergo an extra step in order to become part of the graph. tf.function\n",
        "# uses a library called AutoGraph (tf.autograph) to convert Python code into\n",
        "# graph-generating code.\n",
        "\n",
        "def simple_relu(x):\n",
        "  if tf.greater(x, 0):\n",
        "    return x\n",
        "  else:\n",
        "    return 0\n",
        "\n",
        "# `tf_simple_relu` is a TensorFlow `Function` that wraps `simple_relu`.\n",
        "tf_simple_relu = tf.function(simple_relu)\n",
        "\n",
        "print(\"First branch, with graph:\", tf_simple_relu(tf.constant(1)).numpy())\n",
        "print(\"Second branch, with graph:\", tf_simple_relu(tf.constant(-1)).numpy())"
      ],
      "metadata": {
        "id": "JNawgVcOCUCK"
      },
      "execution_count": null,
      "outputs": []
    }
  ]
}